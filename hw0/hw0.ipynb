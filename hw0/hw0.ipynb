{
 "cells": [
  {
   "cell_type": "code",
   "execution_count": 1,
   "id": "341193c5",
   "metadata": {},
   "outputs": [],
   "source": [
    "import numpy as np\n",
    "import time"
   ]
  },
  {
   "cell_type": "code",
   "execution_count": 2,
   "id": "ebe48f73",
   "metadata": {},
   "outputs": [
    {
     "name": "stdout",
     "output_type": "stream",
     "text": [
      "[[ 0.35668853 -0.44138239]\n",
      " [ 0.06445393 -0.48197963]\n",
      " [-0.83132328 -0.20943119]\n",
      " ...\n",
      " [ 1.14830214 -0.08614543]\n",
      " [ 0.92349627 -0.11631557]\n",
      " [ 1.25128132 -0.08632978]]\n",
      "[ 1.  1. -1. ... -1. -1. -1.]\n"
     ]
    }
   ],
   "source": [
    "n = 90000\n",
    "X_train = np.random.randn(n,2)\n",
    "Y_train = np.sign(np.random.randn(n))\n",
    "print(X_train)\n",
    "print(Y_train)"
   ]
  },
  {
   "cell_type": "code",
   "execution_count": 3,
   "id": "299ac56e",
   "metadata": {},
   "outputs": [],
   "source": [
    "from sklearn.neighbors import KNeighborsClassifier\n",
    "k = 5"
   ]
  },
  {
   "cell_type": "code",
   "execution_count": 4,
   "id": "d92cff36",
   "metadata": {},
   "outputs": [
    {
     "name": "stdout",
     "output_type": "stream",
     "text": [
      "train time used:0.03107905387878418\n",
      "test time used:2.1717371940612793\n"
     ]
    }
   ],
   "source": [
    "#algo={'auto', 'ball_tree', 'kd_tree', 'brute'}\n",
    "clf = KNeighborsClassifier(k, algorithm = 'ball_tree')\n",
    "start = time.time()\n",
    "clf.fit(X_train, Y_train)\n",
    "end = time.time()\n",
    "print(f'train time used:{end - start}')\n",
    "start = time.time()\n",
    "X_test = np.random.randn(n,2)\n",
    "clf.predict(X_test)\n",
    "end = time.time()\n",
    "print(f'test time used:{end - start}')"
   ]
  },
  {
   "cell_type": "code",
   "execution_count": 5,
   "id": "b391ee56",
   "metadata": {
    "scrolled": true
   },
   "outputs": [
    {
     "name": "stdout",
     "output_type": "stream",
     "text": [
      "train time used:0.00608062744140625\n",
      "test time used:2.267277240753174\n"
     ]
    }
   ],
   "source": [
    "clf = KNeighborsClassifier(k, algorithm = 'brute')\n",
    "start = time.time()\n",
    "clf.fit(X_train, Y_train)\n",
    "end = time.time()\n",
    "print(f'train time used:{end - start}')\n",
    "start = time.time()\n",
    "X_test = np.random.randn(n,2)\n",
    "clf.predict(X_test)\n",
    "end = time.time()\n",
    "print(f'test time used:{end - start}')"
   ]
  },
  {
   "cell_type": "code",
   "execution_count": 6,
   "id": "301723c5",
   "metadata": {},
   "outputs": [
    {
     "name": "stdout",
     "output_type": "stream",
     "text": [
      "train time used:0.0483250617980957\n",
      "test time used:1.3095369338989258\n"
     ]
    }
   ],
   "source": [
    "clf = KNeighborsClassifier(k, algorithm = 'kd_tree')\n",
    "start = time.time()\n",
    "clf.fit(X_train, Y_train)\n",
    "end = time.time()\n",
    "print(f'train time used:{end - start}')\n",
    "start = time.time()\n",
    "X_test = np.random.randn(n,2)\n",
    "clf.predict(X_test)\n",
    "end = time.time()\n",
    "print(f'test time used:{end - start}')"
   ]
  },
  {
   "cell_type": "code",
   "execution_count": null,
   "id": "a4f84d87",
   "metadata": {},
   "outputs": [],
   "source": []
  }
 ],
 "metadata": {
  "kernelspec": {
   "display_name": "Python 3 (ipykernel)",
   "language": "python",
   "name": "python3"
  },
  "language_info": {
   "codemirror_mode": {
    "name": "ipython",
    "version": 3
   },
   "file_extension": ".py",
   "mimetype": "text/x-python",
   "name": "python",
   "nbconvert_exporter": "python",
   "pygments_lexer": "ipython3",
   "version": "3.11.4"
  }
 },
 "nbformat": 4,
 "nbformat_minor": 5
}
