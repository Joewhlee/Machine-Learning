{
 "cells": [
  {
   "cell_type": "code",
   "execution_count": 2,
   "id": "f78acc96",
   "metadata": {},
   "outputs": [
    {
     "name": "stdout",
     "output_type": "stream",
     "text": [
      "Linear LR accuracy: 0.769\n"
     ]
    },
    {
     "name": "stderr",
     "output_type": "stream",
     "text": [
      "C:\\Users\\joe55\\AppData\\Local\\Temp\\ipykernel_7592\\1613704828.py:35: RuntimeWarning: overflow encountered in exp\n",
      "  predictions = np.exp(-y_train * f_x_train) / (1 + np.exp(-y_train * f_x_train))\n",
      "C:\\Users\\joe55\\AppData\\Local\\Temp\\ipykernel_7592\\1613704828.py:35: RuntimeWarning: invalid value encountered in divide\n",
      "  predictions = np.exp(-y_train * f_x_train) / (1 + np.exp(-y_train * f_x_train))\n"
     ]
    },
    {
     "ename": "KeyboardInterrupt",
     "evalue": "",
     "output_type": "error",
     "traceback": [
      "\u001b[1;31m---------------------------------------------------------------------------\u001b[0m",
      "\u001b[1;31mKeyboardInterrupt\u001b[0m                         Traceback (most recent call last)",
      "Cell \u001b[1;32mIn[2], line 62\u001b[0m\n\u001b[0;32m     59\u001b[0m linear_acc \u001b[38;5;241m=\u001b[39m linear_logistic_regression(x_train, y_train, x_test, y_test, \u001b[38;5;241m1.0\u001b[39m, \u001b[38;5;241m0.001\u001b[39m, \u001b[38;5;241m200\u001b[39m)\n\u001b[0;32m     60\u001b[0m \u001b[38;5;28mprint\u001b[39m(\u001b[38;5;124m\"\u001b[39m\u001b[38;5;124mLinear LR accuracy:\u001b[39m\u001b[38;5;124m\"\u001b[39m, linear_acc)\n\u001b[1;32m---> 62\u001b[0m klr_acc \u001b[38;5;241m=\u001b[39m kernel_logistic_regression(x_train, y_train, x_test, y_test, \u001b[38;5;241m5.0\u001b[39m, \u001b[38;5;241m0.001\u001b[39m,\u001b[38;5;241m200\u001b[39m, \u001b[38;5;241m0.1\u001b[39m)\n\u001b[0;32m     63\u001b[0m \u001b[38;5;28mprint\u001b[39m(\u001b[38;5;124m\"\u001b[39m\u001b[38;5;124mKernel LR accuracy:\u001b[39m\u001b[38;5;124m\"\u001b[39m, klr_acc)\n",
      "Cell \u001b[1;32mIn[2], line 31\u001b[0m, in \u001b[0;36mkernel_logistic_regression\u001b[1;34m(x_train, y_train, x_test, y_test, step_size, reg_strength, num_iters, kernel_parameter)\u001b[0m\n\u001b[0;32m     28\u001b[0m b \u001b[38;5;241m=\u001b[39m \u001b[38;5;241m0\u001b[39m\n\u001b[0;32m     30\u001b[0m \u001b[38;5;28;01mfor\u001b[39;00m _ \u001b[38;5;129;01min\u001b[39;00m \u001b[38;5;28mrange\u001b[39m(num_iters):\n\u001b[1;32m---> 31\u001b[0m     K \u001b[38;5;241m=\u001b[39m rbf_kernel(x_train, x_train, gamma\u001b[38;5;241m=\u001b[39mkernel_parameter)\n\u001b[0;32m     32\u001b[0m     \u001b[38;5;66;03m#K = rbf_kernel(x_train, x_train, gamma=1/(2 * kernel_parameter**2))\u001b[39;00m\n\u001b[0;32m     34\u001b[0m     f_x_train \u001b[38;5;241m=\u001b[39m K\u001b[38;5;241m.\u001b[39mdot(alpha) \u001b[38;5;241m+\u001b[39m b\n",
      "File \u001b[1;32m~\\anaconda3\\Lib\\site-packages\\sklearn\\utils\\_param_validation.py:211\u001b[0m, in \u001b[0;36mvalidate_params.<locals>.decorator.<locals>.wrapper\u001b[1;34m(*args, **kwargs)\u001b[0m\n\u001b[0;32m    205\u001b[0m \u001b[38;5;28;01mtry\u001b[39;00m:\n\u001b[0;32m    206\u001b[0m     \u001b[38;5;28;01mwith\u001b[39;00m config_context(\n\u001b[0;32m    207\u001b[0m         skip_parameter_validation\u001b[38;5;241m=\u001b[39m(\n\u001b[0;32m    208\u001b[0m             prefer_skip_nested_validation \u001b[38;5;129;01mor\u001b[39;00m global_skip_validation\n\u001b[0;32m    209\u001b[0m         )\n\u001b[0;32m    210\u001b[0m     ):\n\u001b[1;32m--> 211\u001b[0m         \u001b[38;5;28;01mreturn\u001b[39;00m func(\u001b[38;5;241m*\u001b[39margs, \u001b[38;5;241m*\u001b[39m\u001b[38;5;241m*\u001b[39mkwargs)\n\u001b[0;32m    212\u001b[0m \u001b[38;5;28;01mexcept\u001b[39;00m InvalidParameterError \u001b[38;5;28;01mas\u001b[39;00m e:\n\u001b[0;32m    213\u001b[0m     \u001b[38;5;66;03m# When the function is just a wrapper around an estimator, we allow\u001b[39;00m\n\u001b[0;32m    214\u001b[0m     \u001b[38;5;66;03m# the function to delegate validation to the estimator, but we replace\u001b[39;00m\n\u001b[0;32m    215\u001b[0m     \u001b[38;5;66;03m# the name of the estimator by the name of the function in the error\u001b[39;00m\n\u001b[0;32m    216\u001b[0m     \u001b[38;5;66;03m# message to avoid confusion.\u001b[39;00m\n\u001b[0;32m    217\u001b[0m     msg \u001b[38;5;241m=\u001b[39m re\u001b[38;5;241m.\u001b[39msub(\n\u001b[0;32m    218\u001b[0m         \u001b[38;5;124mr\u001b[39m\u001b[38;5;124m\"\u001b[39m\u001b[38;5;124mparameter of \u001b[39m\u001b[38;5;124m\\\u001b[39m\u001b[38;5;124mw+ must be\u001b[39m\u001b[38;5;124m\"\u001b[39m,\n\u001b[0;32m    219\u001b[0m         \u001b[38;5;124mf\u001b[39m\u001b[38;5;124m\"\u001b[39m\u001b[38;5;124mparameter of \u001b[39m\u001b[38;5;132;01m{\u001b[39;00mfunc\u001b[38;5;241m.\u001b[39m\u001b[38;5;18m__qualname__\u001b[39m\u001b[38;5;132;01m}\u001b[39;00m\u001b[38;5;124m must be\u001b[39m\u001b[38;5;124m\"\u001b[39m,\n\u001b[0;32m    220\u001b[0m         \u001b[38;5;28mstr\u001b[39m(e),\n\u001b[0;32m    221\u001b[0m     )\n",
      "File \u001b[1;32m~\\anaconda3\\Lib\\site-packages\\sklearn\\metrics\\pairwise.py:1478\u001b[0m, in \u001b[0;36mrbf_kernel\u001b[1;34m(X, Y, gamma)\u001b[0m\n\u001b[0;32m   1475\u001b[0m \u001b[38;5;28;01mif\u001b[39;00m gamma \u001b[38;5;129;01mis\u001b[39;00m \u001b[38;5;28;01mNone\u001b[39;00m:\n\u001b[0;32m   1476\u001b[0m     gamma \u001b[38;5;241m=\u001b[39m \u001b[38;5;241m1.0\u001b[39m \u001b[38;5;241m/\u001b[39m X\u001b[38;5;241m.\u001b[39mshape[\u001b[38;5;241m1\u001b[39m]\n\u001b[1;32m-> 1478\u001b[0m K \u001b[38;5;241m=\u001b[39m euclidean_distances(X, Y, squared\u001b[38;5;241m=\u001b[39m\u001b[38;5;28;01mTrue\u001b[39;00m)\n\u001b[0;32m   1479\u001b[0m K \u001b[38;5;241m*\u001b[39m\u001b[38;5;241m=\u001b[39m \u001b[38;5;241m-\u001b[39mgamma\n\u001b[0;32m   1480\u001b[0m np\u001b[38;5;241m.\u001b[39mexp(K, K)  \u001b[38;5;66;03m# exponentiate K in-place\u001b[39;00m\n",
      "File \u001b[1;32m~\\anaconda3\\Lib\\site-packages\\sklearn\\metrics\\pairwise.py:338\u001b[0m, in \u001b[0;36meuclidean_distances\u001b[1;34m(X, Y, Y_norm_squared, squared, X_norm_squared)\u001b[0m\n\u001b[0;32m    332\u001b[0m     \u001b[38;5;28;01mif\u001b[39;00m Y_norm_squared\u001b[38;5;241m.\u001b[39mshape \u001b[38;5;241m!=\u001b[39m (\u001b[38;5;241m1\u001b[39m, Y\u001b[38;5;241m.\u001b[39mshape[\u001b[38;5;241m0\u001b[39m]):\n\u001b[0;32m    333\u001b[0m         \u001b[38;5;28;01mraise\u001b[39;00m \u001b[38;5;167;01mValueError\u001b[39;00m(\n\u001b[0;32m    334\u001b[0m             \u001b[38;5;124mf\u001b[39m\u001b[38;5;124m\"\u001b[39m\u001b[38;5;124mIncompatible dimensions for Y of shape \u001b[39m\u001b[38;5;132;01m{\u001b[39;00mY\u001b[38;5;241m.\u001b[39mshape\u001b[38;5;132;01m}\u001b[39;00m\u001b[38;5;124m and \u001b[39m\u001b[38;5;124m\"\u001b[39m\n\u001b[0;32m    335\u001b[0m             \u001b[38;5;124mf\u001b[39m\u001b[38;5;124m\"\u001b[39m\u001b[38;5;124mY_norm_squared of shape \u001b[39m\u001b[38;5;132;01m{\u001b[39;00moriginal_shape\u001b[38;5;132;01m}\u001b[39;00m\u001b[38;5;124m.\u001b[39m\u001b[38;5;124m\"\u001b[39m\n\u001b[0;32m    336\u001b[0m         )\n\u001b[1;32m--> 338\u001b[0m \u001b[38;5;28;01mreturn\u001b[39;00m _euclidean_distances(X, Y, X_norm_squared, Y_norm_squared, squared)\n",
      "File \u001b[1;32m~\\anaconda3\\Lib\\site-packages\\sklearn\\metrics\\pairwise.py:382\u001b[0m, in \u001b[0;36m_euclidean_distances\u001b[1;34m(X, Y, X_norm_squared, Y_norm_squared, squared)\u001b[0m\n\u001b[0;32m    380\u001b[0m     distances \u001b[38;5;241m+\u001b[39m\u001b[38;5;241m=\u001b[39m XX\n\u001b[0;32m    381\u001b[0m     distances \u001b[38;5;241m+\u001b[39m\u001b[38;5;241m=\u001b[39m YY\n\u001b[1;32m--> 382\u001b[0m np\u001b[38;5;241m.\u001b[39mmaximum(distances, \u001b[38;5;241m0\u001b[39m, out\u001b[38;5;241m=\u001b[39mdistances)\n\u001b[0;32m    384\u001b[0m \u001b[38;5;66;03m# Ensure that distances between vectors and themselves are set to 0.0.\u001b[39;00m\n\u001b[0;32m    385\u001b[0m \u001b[38;5;66;03m# This may not be the case due to floating point rounding errors.\u001b[39;00m\n\u001b[0;32m    386\u001b[0m \u001b[38;5;28;01mif\u001b[39;00m X \u001b[38;5;129;01mis\u001b[39;00m Y:\n",
      "\u001b[1;31mKeyboardInterrupt\u001b[0m: "
     ]
    }
   ],
   "source": [
    "import numpy as np\n",
    "from sklearn.metrics.pairwise import rbf_kernel, linear_kernel\n",
    "\n",
    "def linear_logistic_regression(x_train, y_train, x_test, y_test, step_size, reg_strength, num_iters):\n",
    "    from sklearn.linear_model import LogisticRegression\n",
    "    # only use sklearn's LogisticRegression\n",
    "    clf = LogisticRegression(C=1/reg_strength)\n",
    "    clf.fit(x_train, y_train)\n",
    "    test_acc = clf.score(x_test, y_test)\n",
    "    return test_acc\n",
    "\n",
    "def kernel_logistic_regression(x_train, y_train, x_test, y_test, step_size, reg_strength, num_iters, kernel_parameter):\n",
    "    \"\"\"\n",
    "    x_train - (n_train, d)\n",
    "    y_train - (n_train,)\n",
    "    x_test - (n_test, d)\n",
    "    y_test - (n_test,)\n",
    "    step_size: gamma in problem description\n",
    "    reg_strength: lambda in problem description\n",
    "    num_iters: how many iterations of gradient descent to perform\n",
    "\n",
    "    Implement KLR with the Gaussian Kernel.\n",
    "    The only allowed sklearn usage is the rbf_kernel, which has already been imported.\n",
    "    \"\"\"\n",
    "    # TODO\n",
    "    n_train, n_test = len(x_train), len(x_test)\n",
    "    alpha = np.zeros(n_train)\n",
    "    b = 0\n",
    "\n",
    "    for _ in range(num_iters):\n",
    "        #K = rbf_kernel(x_train, x_train, gamma=kernel_parameter)\n",
    "        K = rbf_kernel(x_train, x_train, gamma=1/(2 * kernel_parameter**2))\n",
    "\n",
    "        f_x_train = K.dot(alpha) + b\n",
    "        predictions = np.exp(-y_train * f_x_train) / (1 + np.exp(-y_train * f_x_train))\n",
    "\n",
    "        # gradient\n",
    "        gradient_alpha = -1/n_train * K.T.dot(y_train * predictions) + 2 * reg_strength * K.dot(alpha)\n",
    "        gradient_b = -1/n_train * np.sum(y_train * predictions)\n",
    "\n",
    "        # Update\n",
    "        alpha = alpha - step_size * gradient_alpha\n",
    "        b = b - step_size * gradient_b\n",
    "\n",
    "    K_test = rbf_kernel(x_test, x_train, gamma=1/(2 * kernel_parameter**2))\n",
    "    f_x_test = K_test.dot(alpha) + b\n",
    "    test_predictions = np.sign(f_x_test)\n",
    "    #print(test_predictions)\n",
    "    test_accuracy = np.mean(test_predictions == y_test)\n",
    "\n",
    "    return test_accuracy\n",
    "\n",
    "x_train = np.load(\"x_train.npy\")    # shape (n_train, d)\n",
    "x_test = np.load(\"x_test.npy\")      # shape (n_test, d)\n",
    "\n",
    "y_train = np.load(\"y_train.npy\")    # shape (n_train,)\n",
    "y_test = np.load(\"y_test.npy\")        # shape (n_test,)\n",
    "\n",
    "linear_acc = linear_logistic_regression(x_train, y_train, x_test, y_test, 1.0, 0.001, 200)\n",
    "print(\"Linear LR accuracy:\", linear_acc)\n",
    "\n",
    "klr_acc = kernel_logistic_regression(x_train, y_train, x_test, y_test, 5.0, 0.001,200, 0.1)\n",
    "print(\"Kernel LR accuracy:\", klr_acc)"
   ]
  },
  {
   "cell_type": "code",
   "execution_count": null,
   "id": "0be825fa",
   "metadata": {},
   "outputs": [],
   "source": []
  }
 ],
 "metadata": {
  "kernelspec": {
   "display_name": "Python 3 (ipykernel)",
   "language": "python",
   "name": "python3"
  },
  "language_info": {
   "codemirror_mode": {
    "name": "ipython",
    "version": 3
   },
   "file_extension": ".py",
   "mimetype": "text/x-python",
   "name": "python",
   "nbconvert_exporter": "python",
   "pygments_lexer": "ipython3",
   "version": "3.11.4"
  }
 },
 "nbformat": 4,
 "nbformat_minor": 5
}
